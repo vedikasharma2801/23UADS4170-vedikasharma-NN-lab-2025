{
 "cells": [
  {
   "cell_type": "code",
   "execution_count": 1,
   "metadata": {},
   "outputs": [
    {
     "name": "stdout",
     "output_type": "stream",
     "text": [
      "Input: [0 0] -> Predicted: 1, Actual: 0\n",
      "Input: [0 1] -> Predicted: 1, Actual: 1\n",
      "Input: [1 0] -> Predicted: 0, Actual: 1\n",
      "Input: [1 1] -> Predicted: 0, Actual: 0\n",
      "Accuracy: 50.00%\n"
     ]
    }
   ],
   "source": [
    "import numpy as np\n",
    "import matplotlib.pyplot as plt\n",
    "\n",
    "def perceptron(inputs, weights, bias):\n",
    "    return np.where(np.dot(inputs, weights) + bias > 0, 1, 0)\n",
    "\n",
    "def train_perceptron(X, Y, epochs=100, lr=0.1):\n",
    "    weights = np.random.rand(X.shape[1])\n",
    "    bias = np.random.rand()\n",
    "\n",
    "    for _ in range(epochs):\n",
    "        for i in range(len(X)):\n",
    "            prediction = np.where(np.dot(X[i], weights) + bias > 0, 1, 0)\n",
    "            error = Y[i] - prediction\n",
    "            weights += lr * error * X[i]  # Update weights\n",
    "            bias += lr * error            # Update bias\n",
    "\n",
    "    return weights, bias\n",
    "\n",
    "# XOR inputs and outputs\n",
    "X = np.array([[0, 0], [0, 1], [1, 0], [1, 1]])\n",
    "Y_xor = np.array([0, 1, 1, 0])\n",
    "\n",
    "# Generate intermediate labels for perceptrons\n",
    "Y_p1 = np.array([0, 1, 1, 0])  # Similar to XOR itself\n",
    "Y_p2 = np.array([0, 1, 1, 0])  # Same as XOR (can be trained separately)\n",
    "\n",
    "# Train perceptrons to extract intermediate features\n",
    "w1, b1 = train_perceptron(X, Y_p1)\n",
    "w2, b2 = train_perceptron(X, Y_p2)\n",
    "\n",
    "# Compute hidden layer outputs\n",
    "h1 = perceptron(X, w1, b1)\n",
    "h2 = perceptron(X, w2, b2)\n",
    "\n",
    "# Combine intermediate outputs into a hidden layer\n",
    "hidden_output = np.stack((h1, h2), axis=1)\n",
    "\n",
    "# Train final XOR perceptron using hidden layer outputs\n",
    "w_xor, b_xor = train_perceptron(hidden_output, Y_xor)\n",
    "\n",
    "# Get XOR predictions\n",
    "Y_pred = perceptron(hidden_output, w_xor, b_xor)\n",
    "\n",
    "# Compute accuracy\n",
    "accuracy = np.mean(Y_pred == Y_xor) * 100\n",
    "\n",
    "# Print results\n",
    "for i in range(len(X)):\n",
    "    print(f'Input: {X[i]} -> Predicted: {Y_pred[i]}, Actual: {Y_xor[i]}')\n",
    "\n",
    "print(f'Accuracy: {accuracy:.2f}%')"
   ]
  }
 ],
 "metadata": {
  "kernelspec": {
   "display_name": "Python 3",
   "language": "python",
   "name": "python3"
  },
  "language_info": {
   "codemirror_mode": {
    "name": "ipython",
    "version": 3
   },
   "file_extension": ".py",
   "mimetype": "text/x-python",
   "name": "python",
   "nbconvert_exporter": "python",
   "pygments_lexer": "ipython3",
   "version": "3.11.4"
  }
 },
 "nbformat": 4,
 "nbformat_minor": 2
}
